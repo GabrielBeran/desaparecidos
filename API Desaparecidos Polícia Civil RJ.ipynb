{
 "cells": [
  {
   "cell_type": "code",
   "execution_count": 23,
   "metadata": {},
   "outputs": [],
   "source": [
    "import requests\n",
    "import json\n",
    "import pandas as pd"
   ]
  },
  {
   "cell_type": "code",
   "execution_count": 21,
   "metadata": {},
   "outputs": [
    {
     "name": "stdout",
     "output_type": "stream",
     "text": [
      "Total de registros coletados: 140\n"
     ]
    }
   ],
   "source": [
    "url = 'https://desaparecidos-api.pcivil.rj.gov.br/missings'\n",
    "data = []\n",
    "num_pages = 6\n",
    "page_size = 100\n",
    "\n",
    "for page_number in range(num_pages):\n",
    "    params = {\n",
    "        'pageSize': page_size,\n",
    "        'pageStart': page_number  \n",
    "    }\n",
    "    response = requests.get(url, params=params)\n",
    "    if response.status_code == 200:\n",
    "        page_data = response.json()\n",
    "        if 'content' in page_data:\n",
    "            # Processa cada item: remove 'photo' e filtra por 'isFound' == False\n",
    "            processed_content = [\n",
    "                {key: value for key, value in item.items() if key != 'photo'}\n",
    "                for item in page_data['content'] if not item['isFound']\n",
    "            ]\n",
    "            data.extend(processed_content)\n",
    "        else:\n",
    "            print(f\"Nenhum dado encontrado na página {page_number}\")\n",
    "    else:\n",
    "        print(f\"Erro na requisição da página {page_number}: {response.status_code}\")\n",
    "\n",
    "print(f\"Total de registros coletados: {len(data)}\")"
   ]
  },
  {
   "cell_type": "code",
   "execution_count": 25,
   "metadata": {},
   "outputs": [],
   "source": [
    "nomes = []\n",
    "idades = []\n",
    "\n",
    "# Preenchendo as listas com dados da resposta da API\n",
    "for item in data:\n",
    "    nomes.append(item['name'])\n",
    "    idades.append(item['age'])\n",
    "\n",
    "# Criando um DataFrame a partir das listas\n",
    "desaparecidos_df = pd.DataFrame({\n",
    "    'Nome': nomes,\n",
    "    'Idade': idades\n",
    "})\n",
    "desaparecidos_df.to_csv('Desaparecidos Polícia Civil RJ.csv', index=False)"
   ]
  },
  {
   "cell_type": "code",
   "execution_count": 22,
   "metadata": {},
   "outputs": [
    {
     "name": "stdout",
     "output_type": "stream",
     "text": [
      "[{'id': 668, 'name': 'ADELSON FERREIRA ANTUNIS', 'age': 53, 'isSocialPic': False, 'isFound': False, 'isDead': False}, {'id': 579, 'name': 'ADEMAR RIBEIRO DA SILVA', 'age': 70, 'isSocialPic': False, 'isFound': False, 'isDead': False}, {'id': 801, 'name': 'ADERVAL SERPA FERREIRA', 'age': 42, 'isSocialPic': False, 'isFound': False, 'isDead': False}, {'id': 802, 'name': 'ADERVAL SERPA FERREIRA', 'age': 42, 'isSocialPic': False, 'isFound': False, 'isDead': False}, {'id': 686, 'name': 'ADRIANA APARECIDA DA SILVA', 'age': 44, 'isSocialPic': False, 'isFound': False, 'isDead': False}, {'id': 319, 'name': 'ALESSANDRA DA SILVA', 'age': 48, 'isSocialPic': False, 'isFound': False, 'isDead': False}, {'id': 684, 'name': 'ALEXANDRE MUNIZ DOS SANTOS', 'age': 19, 'isSocialPic': False, 'isFound': False, 'isDead': False}, {'id': 578, 'name': 'ALINE PORTES PIRES', 'age': 19, 'isSocialPic': False, 'isFound': False, 'isDead': False}, {'id': 796, 'name': 'ALTAMIR LUIZ RODRIGUES FILHO', 'age': 49, 'isSocialPic': False, 'isFound': False, 'isDead': False}, {'id': 793, 'name': 'ANA CLARA CORRÊA DE SOUZA REIS', 'age': 12, 'isSocialPic': False, 'isFound': False, 'isDead': False}, {'id': 755, 'name': 'ANDRIELLE FATIMA TAVARES DA SILVA', 'age': 34, 'isSocialPic': False, 'isFound': False, 'isDead': False}, {'id': 640, 'name': 'ANESSA LORENA LIMA DOS SANTOS', 'age': 16, 'isSocialPic': False, 'isFound': False, 'isDead': False}, {'id': 791, 'name': 'ANNA CLARA NASCIMENTO DE FRANÇA MONTEIRO', 'age': 11, 'isSocialPic': False, 'isFound': False, 'isDead': False}, {'id': 470, 'name': 'ANTONIA SAMARIA RIBEIRO DE SOUZA', 'age': 28, 'isSocialPic': False, 'isFound': False, 'isDead': False}, {'id': 675, 'name': 'ARACI GONÇALVES DE BRITO', 'age': 79, 'isSocialPic': False, 'isFound': False, 'isDead': False}, {'id': 336, 'name': 'AYSSA VITORIA RODRIGUES DA SILVA CAMPOS', 'age': 15, 'isSocialPic': False, 'isFound': False, 'isDead': False}, {'id': 323, 'name': 'BEATRIZ SERAFIM DE SOUSA', 'age': 13, 'isSocialPic': False, 'isFound': False, 'isDead': False}, {'id': 786, 'name': 'BRAIA BRANQUINE', 'age': 7, 'isSocialPic': False, 'isFound': False, 'isDead': False}, {'id': 656, 'name': 'CAIO CARDOSO ABRITTA MONTEIRO', 'age': 14, 'isSocialPic': False, 'isFound': False, 'isDead': False}, {'id': 477, 'name': 'CARLOS ANDRE DA SILVA DE SOUSA', 'age': 33, 'isSocialPic': False, 'isFound': False, 'isDead': False}, {'id': 452, 'name': 'CARLOS FREDERICO REIS DE ALMEIDA', 'age': 50, 'isSocialPic': False, 'isFound': False, 'isDead': False}, {'id': 597, 'name': 'CARLOS ROBERTO SEVERIO', 'age': 61, 'isSocialPic': False, 'isFound': False, 'isDead': False}, {'id': 648, 'name': 'CAROLINA MACHADO COUTO', 'age': 30, 'isSocialPic': False, 'isFound': False, 'isDead': False}, {'id': 683, 'name': 'CAROLINE DE ASSIS VIDAL', 'age': 31, 'isSocialPic': False, 'isFound': False, 'isDead': False}, {'id': 744, 'name': 'CASSIO DE JESUS SILVA', 'age': 25, 'isSocialPic': False, 'isFound': False, 'isDead': False}, {'id': 347, 'name': 'CHAYANNE PINTO DA SILVA', 'age': 17, 'isSocialPic': False, 'isFound': False, 'isDead': False}, {'id': 472, 'name': 'CLAUDI LUIZ BRAZ DE PAULA', 'age': 56, 'isSocialPic': False, 'isFound': False, 'isDead': False}, {'id': 634, 'name': 'CLAYTON MANUEL DA SILVA RELVA', 'age': 32, 'isSocialPic': False, 'isFound': False, 'isDead': False}, {'id': 512, 'name': 'CLEITON PORCINO', 'age': 36, 'isSocialPic': False, 'isFound': False, 'isDead': False}, {'id': 764, 'name': 'DANIEL SOUZA DA SILVA', 'age': 39, 'isSocialPic': False, 'isFound': False, 'isDead': False}, {'id': 396, 'name': 'DAVID SANTANA F. DA SILVA', 'age': 32, 'isSocialPic': False, 'isFound': False, 'isDead': False}, {'id': 312, 'name': 'DIEGO MUNIZ DA SILVA', 'age': 25, 'isSocialPic': False, 'isFound': False, 'isDead': False}, {'id': 671, 'name': 'DIOGO MIRINDIBA DE LIMA', 'age': 40, 'isSocialPic': False, 'isFound': False, 'isDead': False}, {'id': 774, 'name': 'DORALICE SOUZA DOS SANTOS LEITE', 'age': 76, 'isSocialPic': False, 'isFound': False, 'isDead': False}, {'id': 567, 'name': 'DÃ KILLYAN SANTANA DE SOUZA', 'age': 25, 'isSocialPic': False, 'isFound': False, 'isDead': False}, {'id': 714, 'name': 'EDSON DAVI DA SILVA ALMEIDA', 'age': 6, 'isSocialPic': False, 'isFound': False, 'isDead': False}, {'id': 593, 'name': 'ELIELBER DOS SANTOS FERREIRA', 'age': 30, 'isSocialPic': False, 'isFound': False, 'isDead': False}, {'id': 476, 'name': 'ELTON FERREIRA DA SILVA', 'age': 26, 'isSocialPic': False, 'isFound': False, 'isDead': False}, {'id': 734, 'name': 'EMILLY NATHALY DO ROSARIO MATA', 'age': 11, 'isSocialPic': False, 'isFound': False, 'isDead': False}, {'id': 571, 'name': 'FABIAN ENRIQUE TOLOSA FIGUEROA', 'age': 23, 'isSocialPic': False, 'isFound': False, 'isDead': False}, {'id': 747, 'name': 'FABIO FERREIRA DA SILVA', 'age': 31, 'isSocialPic': False, 'isFound': False, 'isDead': False}, {'id': 589, 'name': 'FABIO PENA VILA', 'age': 45, 'isSocialPic': False, 'isFound': False, 'isDead': False}, {'id': 759, 'name': 'FABIO PIRES BUENO', 'age': 39, 'isSocialPic': False, 'isFound': False, 'isDead': False}, {'id': 583, 'name': 'FILOMENA DA SILVA ANTINHO', 'age': 61, 'isSocialPic': False, 'isFound': False, 'isDead': False}, {'id': 678, 'name': 'FRANCISCA VITORIA RODRIGUES CARVALHO', 'age': 20, 'isSocialPic': False, 'isFound': False, 'isDead': False}, {'id': 501, 'name': 'FRANCISCO GOMES DA SILVA', 'age': 73, 'isSocialPic': False, 'isFound': False, 'isDead': False}, {'id': 629, 'name': 'GABRIEL PINHEIRO DA SILVA RAMOS', 'age': 25, 'isSocialPic': False, 'isFound': False, 'isDead': False}, {'id': 695, 'name': 'GASPAR SOBRINHO DA SILVA', 'age': 37, 'isSocialPic': False, 'isFound': False, 'isDead': False}, {'id': 428, 'name': 'GENESI DE LIMA DOS SANTOS', 'age': 55, 'isSocialPic': False, 'isFound': False, 'isDead': False}, {'id': 558, 'name': 'GLACIA CRISTINA RODRIGUES', 'age': 38, 'isSocialPic': False, 'isFound': False, 'isDead': False}, {'id': 745, 'name': 'HIAGO DA SILVA SANTANA', 'age': 11, 'isSocialPic': False, 'isFound': False, 'isDead': False}, {'id': 742, 'name': 'HUGO TEIXEIRA GOULART RIBEIRO', 'age': 35, 'isSocialPic': False, 'isFound': False, 'isDead': False}, {'id': 628, 'name': 'IRACEMA DO ESPIRITO SANTO PEÇANHA', 'age': 66, 'isSocialPic': False, 'isFound': False, 'isDead': False}, {'id': 749, 'name': 'ISAC ROCHINSHY MARTINS', 'age': 44, 'isSocialPic': False, 'isFound': False, 'isDead': False}, {'id': 523, 'name': 'JANE PEREIRA DE SOUZA DO ROSARIO', 'age': 28, 'isSocialPic': False, 'isFound': False, 'isDead': False}, {'id': 769, 'name': 'JAQUELINE GOMES FERNANDES', 'age': 35, 'isSocialPic': False, 'isFound': False, 'isDead': False}, {'id': 328, 'name': 'JENNIFER AZEVEDO RODRIGUES', 'age': 13, 'isSocialPic': False, 'isFound': False, 'isDead': False}, {'id': 411, 'name': 'JOAO BATISTA MACEDO', 'age': 64, 'isSocialPic': False, 'isFound': False, 'isDead': False}, {'id': 639, 'name': 'JOEL MACHADO GONZAGA', 'age': 41, 'isSocialPic': False, 'isFound': False, 'isDead': False}, {'id': 778, 'name': 'JONAS GAZELE ARAUJO', 'age': 25, 'isSocialPic': False, 'isFound': False, 'isDead': False}, {'id': 582, 'name': 'JORGE FERREIRA DO NASCIMENTO', 'age': 55, 'isSocialPic': False, 'isFound': False, 'isDead': False}, {'id': 631, 'name': 'JORGE LUIZ', 'age': 72, 'isSocialPic': False, 'isFound': False, 'isDead': False}, {'id': 766, 'name': 'JOSE CARLOS BORGES', 'age': 77, 'isSocialPic': False, 'isFound': False, 'isDead': False}, {'id': 606, 'name': 'JOSE DA CONCEIÇÃO', 'age': 66, 'isSocialPic': False, 'isFound': False, 'isDead': False}, {'id': 398, 'name': 'JOSIALDO FRANCISCO DA SILVA', 'age': 45, 'isSocialPic': False, 'isFound': False, 'isDead': False}, {'id': 679, 'name': 'JOÃO VICTOR NASCIMENTO DA SILVA PIRES', 'age': 14, 'isSocialPic': False, 'isFound': False, 'isDead': False}, {'id': 647, 'name': 'JULIA STURIAO SANTOS', 'age': 22, 'isSocialPic': False, 'isFound': False, 'isDead': False}, {'id': 762, 'name': 'JULIA VITORIA DA ROCHA CHARLES', 'age': 14, 'isSocialPic': False, 'isFound': False, 'isDead': False}, {'id': 700, 'name': 'JURACI DE JESUS SILVA GAMA', 'age': 64, 'isSocialPic': False, 'isFound': False, 'isDead': False}, {'id': 577, 'name': 'KAROLYNE FRAGA LIRA', 'age': 17, 'isSocialPic': False, 'isFound': False, 'isDead': False}, {'id': 680, 'name': 'KAUAN DA SILVA NEGREIROS', 'age': 16, 'isSocialPic': False, 'isFound': False, 'isDead': False}, {'id': 718, 'name': 'KAUAN REIS DE SOUZA', 'age': 12, 'isSocialPic': False, 'isFound': False, 'isDead': False}, {'id': 783, 'name': 'KAUE HENRIQUE SOUZA DA SILVA', 'age': 15, 'isSocialPic': False, 'isFound': False, 'isDead': False}, {'id': 339, 'name': 'KIONES LIMA DA SILVA', 'age': 32, 'isSocialPic': False, 'isFound': False, 'isDead': False}, {'id': 699, 'name': 'LAUDICEA ALMEIDA DA SILVA', 'age': 56, 'isSocialPic': False, 'isFound': False, 'isDead': False}, {'id': 685, 'name': 'LEONARDO BELMONT MARTINS', 'age': 21, 'isSocialPic': False, 'isFound': False, 'isDead': False}, {'id': 794, 'name': 'LEONARDO CORREIA DOS SANTOS', 'age': 23, 'isSocialPic': False, 'isFound': False, 'isDead': False}, {'id': 652, 'name': 'LEONARDO DA SILVA BASTOS', 'age': 41, 'isSocialPic': False, 'isFound': False, 'isDead': False}, {'id': 587, 'name': 'LEONARDO MARCOS SOUZA MAGALHÃES', 'age': 23, 'isSocialPic': False, 'isFound': False, 'isDead': False}, {'id': 660, 'name': 'LORAN ALISON SANTANA DE BRITO', 'age': 25, 'isSocialPic': False, 'isFound': False, 'isDead': False}, {'id': 689, 'name': 'LORENA MOREIRA DE SOUZA', 'age': 17, 'isSocialPic': False, 'isFound': False, 'isDead': False}, {'id': 614, 'name': 'LOURRAN MELO DE ASSIS', 'age': 15, 'isSocialPic': False, 'isFound': False, 'isDead': False}, {'id': 800, 'name': 'LUAN DAVI COELHO DE PAULA', 'age': 12, 'isSocialPic': False, 'isFound': False, 'isDead': False}, {'id': 743, 'name': 'LUAN MENDES AGUIAR', 'age': 23, 'isSocialPic': False, 'isFound': False, 'isDead': False}, {'id': 19, 'name': 'LUCAS RUFINO DA SILVA', 'age': 20, 'isSocialPic': False, 'isFound': False, 'isDead': False}, {'id': 591, 'name': 'LUCIO NASCIMENTO GONZAGA', 'age': 69, 'isSocialPic': False, 'isFound': False, 'isDead': False}, {'id': 554, 'name': 'LUIS VALCYR DIOGENES PEREIRA NETO', 'age': 27, 'isSocialPic': False, 'isFound': False, 'isDead': False}, {'id': 772, 'name': 'LUIZ KAYNAN DA SILVA MENEZES', 'age': 17, 'isSocialPic': False, 'isFound': False, 'isDead': False}, {'id': 770, 'name': 'MACELE ROSA DOS SANTOS', 'age': 29, 'isSocialPic': False, 'isFound': False, 'isDead': False}, {'id': 681, 'name': 'MARCELO MACHADO OSCAR', 'age': 33, 'isSocialPic': False, 'isFound': False, 'isDead': False}, {'id': 666, 'name': 'MARCIO CUNHA IAVECCHIA', 'age': 49, 'isSocialPic': False, 'isFound': False, 'isDead': False}, {'id': 642, 'name': 'MARCO ANTONIO COUTINHO DE FREITAS', 'age': 16, 'isSocialPic': False, 'isFound': False, 'isDead': False}, {'id': 751, 'name': 'MARCO AURELIO DA ROCHA NOGEUIRA JUNIOR', 'age': 26, 'isSocialPic': False, 'isFound': False, 'isDead': False}, {'id': 727, 'name': 'MARCOS ANTONIO PEREIRA DE OLIVEIRA', 'age': 56, 'isSocialPic': False, 'isFound': False, 'isDead': False}, {'id': 349, 'name': 'MARIA EDUARDA ALVES MACHADO', 'age': 21, 'isSocialPic': False, 'isFound': False, 'isDead': False}, {'id': 785, 'name': 'MARIA EDUARDA LORDELLO DOS SANTOS', 'age': 13, 'isSocialPic': False, 'isFound': False, 'isDead': False}, {'id': 737, 'name': 'MARIA LUIZA DA SILVA CORREIA', 'age': 15, 'isSocialPic': False, 'isFound': False, 'isDead': False}, {'id': 705, 'name': 'MARIA TEREZA FRANCISCA DE CASTRO', 'age': 75, 'isSocialPic': False, 'isFound': False, 'isDead': False}, {'id': 527, 'name': 'MARIO SERGIO LEAL GUIMARAES', 'age': 43, 'isSocialPic': False, 'isFound': False, 'isDead': False}, {'id': 454, 'name': 'MARJORIE MAIA MACEDO LUNSE', 'age': 1, 'isSocialPic': False, 'isFound': False, 'isDead': False}, {'id': 792, 'name': 'MARLLON FELIPE VERLIN DOS SANTOS', 'age': 28, 'isSocialPic': False, 'isFound': False, 'isDead': False}, {'id': 760, 'name': 'MATHEUS ROSA DOS SANTOS', 'age': 15, 'isSocialPic': False, 'isFound': False, 'isDead': False}, {'id': 721, 'name': 'MAX WILLIAM DA SILVA', 'age': 19, 'isSocialPic': False, 'isFound': False, 'isDead': False}, {'id': 780, 'name': 'MILTON PEREIRA DA SILVA', 'age': 88, 'isSocialPic': False, 'isFound': False, 'isDead': False}, {'id': 610, 'name': 'MONICA DA CRUZ PEREIRA', 'age': 45, 'isSocialPic': False, 'isFound': False, 'isDead': False}, {'id': 788, 'name': 'MYKAELLA WYCTORYA BASILIO FERREIRA DA SILVA', 'age': 7, 'isSocialPic': False, 'isFound': False, 'isDead': False}, {'id': 758, 'name': 'NATAN JERONIMO COELHO', 'age': 31, 'isSocialPic': False, 'isFound': False, 'isDead': False}, {'id': 657, 'name': 'NATHÁLIA VITÓRIA DOS SANTOS RIBEIRO', 'age': 17, 'isSocialPic': False, 'isFound': False, 'isDead': False}, {'id': 440, 'name': 'NOIR BRAS', 'age': 74, 'isSocialPic': False, 'isFound': False, 'isDead': False}, {'id': 400, 'name': 'PALOMA DE SOUZA CAMPOS', 'age': 14, 'isSocialPic': False, 'isFound': False, 'isDead': False}, {'id': 654, 'name': 'PATRICIA FELIPE DE SA', 'age': 16, 'isSocialPic': False, 'isFound': False, 'isDead': False}, {'id': 710, 'name': 'PAULO HENRIQUE DE ANDRADE MOURA JÚNIOR', 'age': 17, 'isSocialPic': False, 'isFound': False, 'isDead': False}, {'id': 315, 'name': 'PAULO ROBERTO FRANCO REIS', 'age': 61, 'isSocialPic': False, 'isFound': False, 'isDead': False}, {'id': 797, 'name': 'RAFAEL GABRIEL DA SILVA', 'age': 33, 'isSocialPic': False, 'isFound': False, 'isDead': False}, {'id': 627, 'name': 'RAIANE DA SILVA DIAS PINTO', 'age': 29, 'isSocialPic': False, 'isFound': False, 'isDead': False}, {'id': 672, 'name': 'RAÍZA CONCEIÇÃO SANTOS SILVA', 'age': 14, 'isSocialPic': False, 'isFound': False, 'isDead': False}, {'id': 369, 'name': 'REINALDO ANTUNES DE PAIVA', 'age': 55, 'isSocialPic': False, 'isFound': False, 'isDead': False}, {'id': 549, 'name': 'REINILSON MENEZES', 'age': 63, 'isSocialPic': False, 'isFound': False, 'isDead': False}, {'id': 750, 'name': 'REJANE SIQUEIRA DE LIMA', 'age': 54, 'isSocialPic': False, 'isFound': False, 'isDead': False}, {'id': 711, 'name': 'RITA DE CASSIA CAETANO DA SILVA', 'age': 59, 'isSocialPic': False, 'isFound': False, 'isDead': False}, {'id': 739, 'name': 'ROBSON ALMEIDA', 'age': 53, 'isSocialPic': False, 'isFound': False, 'isDead': False}, {'id': 528, 'name': 'ROGERIO CARLOS MUNIZ CLEMENTE', 'age': 38, 'isSocialPic': False, 'isFound': False, 'isDead': False}, {'id': 658, 'name': 'SAMILLY VITORIA CAMARGO DOS SANTOS', 'age': 15, 'isSocialPic': False, 'isFound': False, 'isDead': False}, {'id': 773, 'name': 'SARA LOPES DE OLIVEIRA', 'age': 28, 'isSocialPic': False, 'isFound': False, 'isDead': False}, {'id': 799, 'name': 'SERGIO JOSE DA SILVA', 'age': 38, 'isSocialPic': False, 'isFound': False, 'isDead': False}, {'id': 585, 'name': 'SERGIO LUIZ BARROCA', 'age': 63, 'isSocialPic': False, 'isFound': False, 'isDead': False}, {'id': 335, 'name': 'SERGIO OLIVEIRA MORAES', 'age': 33, 'isSocialPic': False, 'isFound': False, 'isDead': False}, {'id': 561, 'name': 'SILVIO DA FONSECA OLIVEIRA', 'age': 56, 'isSocialPic': False, 'isFound': False, 'isDead': False}, {'id': 439, 'name': 'STEPHANNY COSTA CLEMENTE', 'age': 21, 'isSocialPic': False, 'isFound': False, 'isDead': False}, {'id': 763, 'name': 'TAINA DA SILVA VENACIO', 'age': 15, 'isSocialPic': False, 'isFound': False, 'isDead': False}, {'id': 790, 'name': 'THAYNA VIEIRA DE FREITAS', 'age': 16, 'isSocialPic': False, 'isFound': False, 'isDead': False}, {'id': 484, 'name': 'VERA LUCIA DE OLIVEIRA RAPOSO', 'age': 67, 'isSocialPic': False, 'isFound': False, 'isDead': False}, {'id': 326, 'name': 'VERONICA RIBEIRO ABDALA', 'age': 43, 'isSocialPic': False, 'isFound': False, 'isDead': False}, {'id': 795, 'name': 'VICTORIA SERAFIM DA SILVA', 'age': 13, 'isSocialPic': False, 'isFound': False, 'isDead': False}, {'id': 712, 'name': 'VICTÓRIA OLIVEIRA DA ROCHA', 'age': 15, 'isSocialPic': False, 'isFound': False, 'isDead': False}, {'id': 488, 'name': 'VINICIUS TOLEDO DE PAULA', 'age': 17, 'isSocialPic': False, 'isFound': False, 'isDead': False}, {'id': 635, 'name': 'VITOR PINTO SILVA', 'age': 41, 'isSocialPic': False, 'isFound': False, 'isDead': False}, {'id': 424, 'name': 'WESLEY SOUZA DA SILVA MORAES', 'age': 23, 'isSocialPic': False, 'isFound': False, 'isDead': False}, {'id': 317, 'name': 'WILSON SOUZA DOS PRAZERES', 'age': 81, 'isSocialPic': False, 'isFound': False, 'isDead': False}, {'id': 735, 'name': 'YURI DO ROSARIO MATA', 'age': 9, 'isSocialPic': False, 'isFound': False, 'isDead': False}]\n"
     ]
    }
   ],
   "source": [
    "print(data)"
   ]
  }
 ],
 "metadata": {
  "kernelspec": {
   "display_name": "Python 3",
   "language": "python",
   "name": "python3"
  },
  "language_info": {
   "codemirror_mode": {
    "name": "ipython",
    "version": 3
   },
   "file_extension": ".py",
   "mimetype": "text/x-python",
   "name": "python",
   "nbconvert_exporter": "python",
   "pygments_lexer": "ipython3",
   "version": "3.11.4"
  }
 },
 "nbformat": 4,
 "nbformat_minor": 2
}
