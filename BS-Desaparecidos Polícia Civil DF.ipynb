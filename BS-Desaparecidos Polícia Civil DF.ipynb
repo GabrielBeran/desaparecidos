{
 "cells": [
  {
   "cell_type": "code",
   "execution_count": 16,
   "metadata": {},
   "outputs": [],
   "source": [
    "from selenium import webdriver\n",
    "from selenium.webdriver.chrome.service import Service\n",
    "from selenium.webdriver.support.ui import Select\n",
    "import pandas as pd\n",
    "import time\n",
    "from webdriver_manager.chrome import ChromeDriverManager\n",
    "from selenium.webdriver.common.by import By\n",
    "from selenium.webdriver.support.ui import WebDriverWait\n",
    "from selenium.webdriver.support import expected_conditions as EC\n",
    "from selenium.webdriver.common.action_chains import ActionChains\n",
    "from selenium.webdriver.common.by import By\n",
    "from selenium.common.exceptions import TimeoutException, NoSuchElementException\n",
    "from selenium.common.exceptions import StaleElementReferenceException\n",
    "from selenium.webdriver.common.keys import Keys\n",
    "from collections import namedtuple\n",
    "from bs4 import BeautifulSoup\n",
    "import re\n",
    "from dateutil import parser"
   ]
  },
  {
   "cell_type": "code",
   "execution_count": 3,
   "metadata": {},
   "outputs": [],
   "source": [
    "service = Service(ChromeDriverManager().install())\n",
    "driver = webdriver.Chrome(service=service)\n",
    "website = 'https://www.pcdf.df.gov.br/servicos/desaparecidos?start=0'\n",
    "driver.get(website)\n",
    "\n",
    "driver.maximize_window()"
   ]
  },
  {
   "cell_type": "code",
   "execution_count": 10,
   "metadata": {},
   "outputs": [
    {
     "name": "stdout",
     "output_type": "stream",
     "text": [
      "Registro(nome='DIRLEY DE SOUZA OLIVEIRA -  DESAPARECIDO QUANDO ESTAVA COM 16 ANOS', data_desaparecimento='DATA DE DESAPARECIMENTO: 30/09/2005, ESTAVA COM 16 ANOS.', região_desaparecimento='REGIÃO DO DESAPARECIMENTO: ÁREA DE DESENVOLVIMENTO ECONÔMICO EM ÁGUAS CLARAS.', idade='PROGRESSÃO DE IDADE ATUAL: 2020, COM\\xa0 31 ANOS.')\n",
      "Registro(nome='YANARA LIMA GOMES - DESAPARECIDA COM 15 ANOS', data_desaparecimento='Data de desaparecimento: 20/02/2016', região_desaparecimento='Data de nascimento:\\xa003/07/2000', idade='Progressão de idade mais atual: feita em 2021, com 20 anos')\n",
      "Registro(nome='LEUZENILDA MARQUES DA ROCHA - Desaparecida com 14 anos de idade', data_desaparecimento='Data de desaparecimento:10 de junho de 2007.', região_desaparecimento='Região: Paranoá/ DF', idade='Progressão de idade mais atual: 2019, com 28 anos.')\n",
      "Registro(nome='DANDARA GONÇALVES XAVIER - Desaparecida com 15 anos', data_desaparecimento='Data de desaparecimento:\\xa026 de agosto de 2003, com 15 anos.', região_desaparecimento='Região: Estrutural', idade='Progressão de idade mais atual:\\xa02019, com 31 anos.')\n",
      "Registro(nome='ANDREZA CARLA DE LIMA DO NASCIMENTO - Desaparecida com 14 anos', data_desaparecimento='Data de desaparecimento: 09/11/2008', região_desaparecimento='Região: Ceilândia/DF.', idade='Progressão de idade mais atual: 2013, com 18 anos.')\n",
      "Registro(nome='Paulo Henrique Alves Guedes, desaparecido com 17 anos', data_desaparecimento='Desaparecimento em 27/12/2009, com 17 anos', região_desaparecimento='Região:\\xa0 Planaltina', idade='Progressão de Idade realizada em 2021, sugerindo a fisionomia de Paulo Henrique com 29 anos')\n",
      "Registro(nome='DOMINGOS DE ARAÚJO GOMES - Desaparecido com 11 anos', data_desaparecimento='Data de desaparecimento:\\xa0entre as datas de 15 de junho de 1995 e 03 de maio de 2007.', região_desaparecimento='Região: Luziânia/GO', idade='Progressão de idade mais atual: 2019, com 33 anos.')\n",
      "Registro(nome='Sara da Silva', data_desaparecimento='DATA DE DESAPARECIMENTO: 17/04/2001, QUANDO ESTAVA COM 14 ANOS.', região_desaparecimento='REGIÃO DO DESAPARECIMENTO: TAGUATINGA/DF.', idade='PROGRESSÃO DE IDADE ATUAL: 2022, COM\\xa0 35 ANOS.')\n",
      "Registro(nome='MIRIAN LIBERATO SILVA - desaparecida com 49 anos', data_desaparecimento='Data de desaparecimento:\\xa010/06/1999, com 49 anos de idade.', região_desaparecimento='Região: Sobradinho', idade='Progressão de idade mais atual: 2021, com 72 anos.')\n",
      "Registro(nome='DOMINGOS DE ARAÚJO GOMES - Desaparecido com 11 anos', data_desaparecimento='Data de desaparecimento:\\xa0entre as datas de 15 de junho de 1995 e 03 de maio de 2007.', região_desaparecimento='Região: Luziânia/GO', idade='Progressão de idade mais atual: 2019, com 33 anos.')\n",
      "Registro(nome='ELIZANE DA SILVA OLIVEIRA - Desaparecida com 08 anos de idade', data_desaparecimento='Data de desaparecimento:\\xa029/12/2000.', região_desaparecimento='Data de nascimento:\\xa005/02/1992', idade='Região:\\xa0Invasão da Estrutural.')\n",
      "Registro(nome='WOONDALL JUNIO NERO PINA', data_desaparecimento='Data de desaparecimento: 12/11/2006, com 15 anos de idade', região_desaparecimento='Região:\\xa0Valparaíso II/Goiás.', idade='Progressão de idade mais atual:\\xa02021, com 29 anos.')\n",
      "Registro(nome='DANDARA GONÇALVES XAVIER - Desaparecida com 15 anos', data_desaparecimento='Data de desaparecimento:\\xa026 de agosto de 2003, com 15 anos.', região_desaparecimento='Região: Estrutural', idade='Progressão de idade mais atual:\\xa02019, com 31 anos.')\n",
      "Registro(nome='MIRIAN LIBERATO SILVA - desaparecida com 49 anos', data_desaparecimento='Data de desaparecimento:\\xa010/06/1999, com 49 anos de idade.', região_desaparecimento='Região: Sobradinho', idade='Progressão de idade mais atual: 2021, com 72 anos.')\n",
      "Registro(nome='YANARA LIMA GOMES - DESAPARECIDA COM 15 ANOS', data_desaparecimento='Data de desaparecimento: 20/02/2016', região_desaparecimento='Data de nascimento:\\xa003/07/2000', idade='Progressão de idade mais atual: feita em 2021, com 20 anos')\n",
      "Registro(nome='MICHELE DE JESUS DA CONCEIÇÃO - Desaparecida com 10 anos de idade', data_desaparecimento='Data de desaparecimento: 07 de setembro de 2006, com 10 anos.', região_desaparecimento='Região: Ceilândia/DF', idade='Progessão de Idade mais atual: 2019, com 22 anos de idade.')\n",
      "Registro(nome='RANARA LORRANE ALVES DE MELO - Desaparecida com 10 anos', data_desaparecimento='Data de desaparecimento: 25 de maio de 2001.', região_desaparecimento='Região: Taguatinga/DF', idade='Progressão de idade mais atual: 2019, com 28 anos.')\n",
      "Registro(nome='Wellington Charles Pedro dos Santos - Desaparecido aos 16 anos', data_desaparecimento='Desaparecimento em meados de 2006, estava com 16 anos.', região_desaparecimento='Região:\\xa0 Recanto das Emas.', idade='Progressão de Idade realizada em 2020, sugere a fisionomia de Wellington com 30 anos.')\n",
      "Registro(nome='DIRLEY DE SOUZA OLIVEIRA -  DESAPARECIDO QUANDO ESTAVA COM 16 ANOS', data_desaparecimento='DATA DE DESAPARECIMENTO: 30/09/2005, ESTAVA COM 16 ANOS.', região_desaparecimento='REGIÃO DO DESAPARECIMENTO: ÁREA DE DESENVOLVIMENTO ECONÔMICO EM ÁGUAS CLARAS.', idade='PROGRESSÃO DE IDADE ATUAL: 2020, COM\\xa0 31 ANOS.')\n"
     ]
    }
   ],
   "source": [
    "# Definindo a estrutura da tupla com os nomes dos campos\n",
    "Registro = namedtuple('Registro', 'nome data_desaparecimento região_desaparecimento idade')\n",
    "\n",
    "registros = []\n",
    "\n",
    "try:\n",
    "    # Processamento da primeira página\n",
    "    time.sleep(5)  # Aguarde a página carregar\n",
    "    html = driver.page_source\n",
    "    soup = BeautifulSoup(html, 'html.parser')\n",
    "    \n",
    "    for li in soup.find_all('li', class_='odd'):\n",
    "        nome = li.find('a', class_='moduleItemTitle').text.strip() if li.find('a', class_='moduleItemTitle') else ''\n",
    "        p_elements = li.find_all('p')\n",
    "        data_desaparecimento = p_elements[0].text.strip() if len(p_elements) > 0 else ''\n",
    "        região_desaparecimento = p_elements[1].text.strip() if len(p_elements) > 1 else ''\n",
    "        idade = p_elements[2].text.strip() if len(p_elements) > 2 else ''\n",
    "        registro = Registro(nome, data_desaparecimento, região_desaparecimento, idade)\n",
    "        registros.append(registro)\n",
    "\n",
    "    # Clicar no botão \"Próxima página\" se disponível\n",
    "    next_page_button = driver.find_elements(By.CSS_SELECTOR, 'a.hasTooltip.pagenav')\n",
    "    if next_page_button:\n",
    "        next_page_button[0].click()\n",
    "        time.sleep(5)  # Aguarde a segunda página carregar\n",
    "\n",
    "        # Processamento da segunda página\n",
    "        html = driver.page_source\n",
    "        soup = BeautifulSoup(html, 'html.parser')\n",
    "        \n",
    "        for li in soup.find_all('li', class_='odd'):\n",
    "            nome = li.find('a', class_='moduleItemTitle').text.strip() if li.find('a', class_='moduleItemTitle') else ''\n",
    "            p_elements = li.find_all('p')\n",
    "            data_desaparecimento = p_elements[0].text.strip() if len(p_elements) > 0 else ''\n",
    "            região_desaparecimento = p_elements[1].text.strip() if len(p_elements) > 1 else ''\n",
    "            idade = p_elements[2].text.strip() if len(p_elements) > 2 else ''\n",
    "            registro = Registro(nome, data_desaparecimento, região_desaparecimento, idade)\n",
    "            registros.append(registro)\n",
    "\n",
    "finally:\n",
    "    driver.quit()  # Certifique-se de que o navegador é fechado corretamente\n",
    "\n",
    "# Exibindo os resultados\n",
    "for r in registros:\n",
    "    print(r)"
   ]
  },
  {
   "cell_type": "code",
   "execution_count": 19,
   "metadata": {},
   "outputs": [
    {
     "name": "stdout",
     "output_type": "stream",
     "text": [
      "Registro(nome='DIRLEY DE SOUZA OLIVEIRA', data_desaparecimento='DATA DE DESAPARECIMENTO: 30/09/2005, ESTAVA COM 16 ANOS.', região_desaparecimento='REGIÃO DO DESAPARECIMENTO: ÁREA DE DESENVOLVIMENTO ECONÔMICO EM ÁGUAS CLARAS.', idade='PROGRESSÃO DE IDADE ATUAL: 2020, COM\\xa0 31 ANOS.')\n",
      "Registro(nome='YANARA LIMA GOMES', data_desaparecimento='Data de desaparecimento: 20/02/2016', região_desaparecimento='Data de nascimento:\\xa003/07/2000', idade='Progressão de idade mais atual: feita em 2021, com 20 anos')\n",
      "Registro(nome='LEUZENILDA MARQUES DA ROCHA', data_desaparecimento='Data de desaparecimento:10 de junho de 2007.', região_desaparecimento='Região: Paranoá/ DF', idade='Progressão de idade mais atual: 2019, com 28 anos.')\n",
      "Registro(nome='DANDARA GONÇALVES XAVIER', data_desaparecimento='Data de desaparecimento:\\xa026 de agosto de 2003, com 15 anos.', região_desaparecimento='Região: Estrutural', idade='Progressão de idade mais atual:\\xa02019, com 31 anos.')\n",
      "Registro(nome='ANDREZA CARLA DE LIMA DO NASCIMENTO', data_desaparecimento='Data de desaparecimento: 09/11/2008', região_desaparecimento='Região: Ceilândia/DF.', idade='Progressão de idade mais atual: 2013, com 18 anos.')\n",
      "Registro(nome='Paulo Henrique Alves Guedes', data_desaparecimento='Desaparecimento em 27/12/2009, com 17 anos', região_desaparecimento='Região:\\xa0 Planaltina', idade='Progressão de Idade realizada em 2021, sugerindo a fisionomia de Paulo Henrique com 29 anos')\n",
      "Registro(nome='DOMINGOS DE ARAÚJO GOMES', data_desaparecimento='Data de desaparecimento:\\xa0entre as datas de 15 de junho de 1995 e 03 de maio de 2007.', região_desaparecimento='Região: Luziânia/GO', idade='Progressão de idade mais atual: 2019, com 33 anos.')\n",
      "Registro(nome='Sara da Silva', data_desaparecimento='DATA DE DESAPARECIMENTO: 17/04/2001, QUANDO ESTAVA COM 14 ANOS.', região_desaparecimento='REGIÃO DO DESAPARECIMENTO: TAGUATINGA/DF.', idade='PROGRESSÃO DE IDADE ATUAL: 2022, COM\\xa0 35 ANOS.')\n",
      "Registro(nome='MIRIAN LIBERATO SILVA', data_desaparecimento='Data de desaparecimento:\\xa010/06/1999, com 49 anos de idade.', região_desaparecimento='Região: Sobradinho', idade='Progressão de idade mais atual: 2021, com 72 anos.')\n",
      "Registro(nome='DOMINGOS DE ARAÚJO GOMES', data_desaparecimento='Data de desaparecimento:\\xa0entre as datas de 15 de junho de 1995 e 03 de maio de 2007.', região_desaparecimento='Região: Luziânia/GO', idade='Progressão de idade mais atual: 2019, com 33 anos.')\n",
      "Registro(nome='ELIZANE DA SILVA OLIVEIRA', data_desaparecimento='Data de desaparecimento:\\xa029/12/2000.', região_desaparecimento='Data de nascimento:\\xa005/02/1992', idade='Região:\\xa0Invasão da Estrutural.')\n",
      "Registro(nome='WOONDALL JUNIO NERO PINA', data_desaparecimento='Data de desaparecimento: 12/11/2006, com 15 anos de idade', região_desaparecimento='Região:\\xa0Valparaíso II/Goiás.', idade='Progressão de idade mais atual:\\xa02021, com 29 anos.')\n",
      "Registro(nome='DANDARA GONÇALVES XAVIER', data_desaparecimento='Data de desaparecimento:\\xa026 de agosto de 2003, com 15 anos.', região_desaparecimento='Região: Estrutural', idade='Progressão de idade mais atual:\\xa02019, com 31 anos.')\n",
      "Registro(nome='MIRIAN LIBERATO SILVA', data_desaparecimento='Data de desaparecimento:\\xa010/06/1999, com 49 anos de idade.', região_desaparecimento='Região: Sobradinho', idade='Progressão de idade mais atual: 2021, com 72 anos.')\n",
      "Registro(nome='YANARA LIMA GOMES', data_desaparecimento='Data de desaparecimento: 20/02/2016', região_desaparecimento='Data de nascimento:\\xa003/07/2000', idade='Progressão de idade mais atual: feita em 2021, com 20 anos')\n",
      "Registro(nome='MICHELE DE JESUS DA CONCEIÇÃO', data_desaparecimento='Data de desaparecimento: 07 de setembro de 2006, com 10 anos.', região_desaparecimento='Região: Ceilândia/DF', idade='Progessão de Idade mais atual: 2019, com 22 anos de idade.')\n",
      "Registro(nome='RANARA LORRANE ALVES DE MELO', data_desaparecimento='Data de desaparecimento: 25 de maio de 2001.', região_desaparecimento='Região: Taguatinga/DF', idade='Progressão de idade mais atual: 2019, com 28 anos.')\n",
      "Registro(nome='Wellington Charles Pedro dos Santos', data_desaparecimento='Desaparecimento em meados de 2006, estava com 16 anos.', região_desaparecimento='Região:\\xa0 Recanto das Emas.', idade='Progressão de Idade realizada em 2020, sugere a fisionomia de Wellington com 30 anos.')\n",
      "Registro(nome='DIRLEY DE SOUZA OLIVEIRA', data_desaparecimento='DATA DE DESAPARECIMENTO: 30/09/2005, ESTAVA COM 16 ANOS.', região_desaparecimento='REGIÃO DO DESAPARECIMENTO: ÁREA DE DESENVOLVIMENTO ECONÔMICO EM ÁGUAS CLARAS.', idade='PROGRESSÃO DE IDADE ATUAL: 2020, COM\\xa0 31 ANOS.')\n"
     ]
    }
   ],
   "source": [
    "def limpar_nome(nome):\n",
    "    # Usa regex para dividir o nome nos delimitadores \" - \" ou \",\"\n",
    "    partes = re.split(r' - |,', nome)\n",
    "    return partes[0].strip()\n",
    "\n",
    "registros_limpos = []\n",
    "for registro in registros:\n",
    "    nome_limpo = limpar_nome(registro.nome)  # Limpa o nome com a nova função\n",
    "    # Cria uma nova namedtuple com o nome limpo e os outros campos originais\n",
    "    registro_limpo = Registro(nome=nome_limpo, data_desaparecimento=registro.data_desaparecimento, região_desaparecimento=registro.região_desaparecimento, idade=registro.idade)\n",
    "    registros_limpos.append(registro_limpo)\n",
    "\n",
    "# Imprimindo os registros limpos para verificar\n",
    "for registro in registros_limpos:\n",
    "    print(registro)"
   ]
  },
  {
   "cell_type": "code",
   "execution_count": 21,
   "metadata": {},
   "outputs": [
    {
     "name": "stdout",
     "output_type": "stream",
     "text": [
      "Registro(nome='DIRLEY DE SOUZA OLIVEIRA', detalhes='DATA DE DESAPARECIMENTO: 30/09/2005, ESTAVA COM 16 ANOS., REGIÃO DO DESAPARECIMENTO: ÁREA DE DESENVOLVIMENTO ECONÔMICO EM ÁGUAS CLARAS., PROGRESSÃO DE IDADE ATUAL: 2020, COM\\xa0 31 ANOS.')\n",
      "Registro(nome='YANARA LIMA GOMES', detalhes='Data de desaparecimento: 20/02/2016, Data de nascimento:\\xa003/07/2000, Progressão de idade mais atual: feita em 2021, com 20 anos')\n",
      "Registro(nome='LEUZENILDA MARQUES DA ROCHA', detalhes='Data de desaparecimento:10 de junho de 2007., Região: Paranoá/ DF, Progressão de idade mais atual: 2019, com 28 anos.')\n",
      "Registro(nome='DANDARA GONÇALVES XAVIER', detalhes='Data de desaparecimento:\\xa026 de agosto de 2003, com 15 anos., Região: Estrutural, Progressão de idade mais atual:\\xa02019, com 31 anos.')\n",
      "Registro(nome='ANDREZA CARLA DE LIMA DO NASCIMENTO', detalhes='Data de desaparecimento: 09/11/2008, Região: Ceilândia/DF., Progressão de idade mais atual: 2013, com 18 anos.')\n",
      "Registro(nome='Paulo Henrique Alves Guedes', detalhes='Desaparecimento em 27/12/2009, com 17 anos, Região:\\xa0 Planaltina, Progressão de Idade realizada em 2021, sugerindo a fisionomia de Paulo Henrique com 29 anos')\n",
      "Registro(nome='DOMINGOS DE ARAÚJO GOMES', detalhes='Data de desaparecimento:\\xa0entre as datas de 15 de junho de 1995 e 03 de maio de 2007., Região: Luziânia/GO, Progressão de idade mais atual: 2019, com 33 anos.')\n",
      "Registro(nome='Sara da Silva', detalhes='DATA DE DESAPARECIMENTO: 17/04/2001, QUANDO ESTAVA COM 14 ANOS., REGIÃO DO DESAPARECIMENTO: TAGUATINGA/DF., PROGRESSÃO DE IDADE ATUAL: 2022, COM\\xa0 35 ANOS.')\n",
      "Registro(nome='MIRIAN LIBERATO SILVA', detalhes='Data de desaparecimento:\\xa010/06/1999, com 49 anos de idade., Região: Sobradinho, Progressão de idade mais atual: 2021, com 72 anos.')\n",
      "Registro(nome='DOMINGOS DE ARAÚJO GOMES', detalhes='Data de desaparecimento:\\xa0entre as datas de 15 de junho de 1995 e 03 de maio de 2007., Região: Luziânia/GO, Progressão de idade mais atual: 2019, com 33 anos.')\n",
      "Registro(nome='ELIZANE DA SILVA OLIVEIRA', detalhes='Data de desaparecimento:\\xa029/12/2000., Data de nascimento:\\xa005/02/1992, Região:\\xa0Invasão da Estrutural.')\n",
      "Registro(nome='WOONDALL JUNIO NERO PINA', detalhes='Data de desaparecimento: 12/11/2006, com 15 anos de idade, Região:\\xa0Valparaíso II/Goiás., Progressão de idade mais atual:\\xa02021, com 29 anos.')\n",
      "Registro(nome='DANDARA GONÇALVES XAVIER', detalhes='Data de desaparecimento:\\xa026 de agosto de 2003, com 15 anos., Região: Estrutural, Progressão de idade mais atual:\\xa02019, com 31 anos.')\n",
      "Registro(nome='MIRIAN LIBERATO SILVA', detalhes='Data de desaparecimento:\\xa010/06/1999, com 49 anos de idade., Região: Sobradinho, Progressão de idade mais atual: 2021, com 72 anos.')\n",
      "Registro(nome='YANARA LIMA GOMES', detalhes='Data de desaparecimento: 20/02/2016, Data de nascimento:\\xa003/07/2000, Progressão de idade mais atual: feita em 2021, com 20 anos')\n",
      "Registro(nome='MICHELE DE JESUS DA CONCEIÇÃO', detalhes='Data de desaparecimento: 07 de setembro de 2006, com 10 anos., Região: Ceilândia/DF, Progessão de Idade mais atual: 2019, com 22 anos de idade.')\n",
      "Registro(nome='RANARA LORRANE ALVES DE MELO', detalhes='Data de desaparecimento: 25 de maio de 2001., Região: Taguatinga/DF, Progressão de idade mais atual: 2019, com 28 anos.')\n",
      "Registro(nome='Wellington Charles Pedro dos Santos', detalhes='Desaparecimento em meados de 2006, estava com 16 anos., Região:\\xa0 Recanto das Emas., Progressão de Idade realizada em 2020, sugere a fisionomia de Wellington com 30 anos.')\n",
      "Registro(nome='DIRLEY DE SOUZA OLIVEIRA', detalhes='DATA DE DESAPARECIMENTO: 30/09/2005, ESTAVA COM 16 ANOS., REGIÃO DO DESAPARECIMENTO: ÁREA DE DESENVOLVIMENTO ECONÔMICO EM ÁGUAS CLARAS., PROGRESSÃO DE IDADE ATUAL: 2020, COM\\xa0 31 ANOS.')\n"
     ]
    }
   ],
   "source": [
    "registro_limpo = namedtuple('Registro', 'nome detalhes')\n",
    "\n",
    "registros_reformulados = []\n",
    "for registro in registros_limpos:\n",
    "    # Concatenando as informações em uma única string\n",
    "    detalhes = f\"{registro.data_desaparecimento}, {registro.região_desaparecimento}, {registro.idade}\"\n",
    "    # Criando um novo registro com nome e detalhes\n",
    "    registro_reformulado = Registro(nome=registro.nome, detalhes=detalhes)\n",
    "    registros_reformulados.append(registro_reformulado)\n",
    "\n",
    "# Imprimindo os registros reformulados para verificar\n",
    "for registro in registros_reformulados:\n",
    "    print(registro)"
   ]
  },
  {
   "cell_type": "code",
   "execution_count": 23,
   "metadata": {},
   "outputs": [],
   "source": [
    "df = pd.DataFrame(registros_reformulados)\n",
    "df.to_csv('Desaparecidos Polícia Civil DF.csv', index=False)"
   ]
  }
 ],
 "metadata": {
  "kernelspec": {
   "display_name": "Python 3",
   "language": "python",
   "name": "python3"
  },
  "language_info": {
   "codemirror_mode": {
    "name": "ipython",
    "version": 3
   },
   "file_extension": ".py",
   "mimetype": "text/x-python",
   "name": "python",
   "nbconvert_exporter": "python",
   "pygments_lexer": "ipython3",
   "version": "3.11.4"
  }
 },
 "nbformat": 4,
 "nbformat_minor": 2
}
