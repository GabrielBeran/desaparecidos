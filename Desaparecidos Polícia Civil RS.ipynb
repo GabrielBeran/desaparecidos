{
 "cells": [
  {
   "cell_type": "code",
   "execution_count": 1,
   "metadata": {},
   "outputs": [],
   "source": [
    "from selenium import webdriver\n",
    "from selenium.webdriver.chrome.service import Service\n",
    "from webdriver_manager.chrome import ChromeDriverManager\n",
    "from selenium.webdriver.common.by import By\n",
    "import pandas as pd\n",
    "import time"
   ]
  },
  {
   "cell_type": "code",
   "execution_count": 6,
   "metadata": {},
   "outputs": [],
   "source": [
    "service = Service(ChromeDriverManager().install())\n",
    "driver = webdriver.Chrome(service=service)\n",
    "website = 'https://www.pc.rs.gov.br/desaparecidos'\n",
    "driver.get(website)\n",
    "\n",
    "driver.maximize_window()"
   ]
  },
  {
   "cell_type": "code",
   "execution_count": 7,
   "metadata": {},
   "outputs": [],
   "source": [
    "nomes = []\n",
    "nascimentos = []\n",
    "desaparecimentos = []\n",
    "locais_desaparecimento = []"
   ]
  },
  {
   "cell_type": "code",
   "execution_count": 8,
   "metadata": {},
   "outputs": [],
   "source": [
    "# Função para contar elementos\n",
    "def contar_elementos(driver, xpath):\n",
    "    return len(driver.find_elements(By.XPATH, xpath))\n",
    "\n",
    "# Xpath para os cartões de desaparecidos\n",
    "xpath_cards = \"//div[@class='card-desaparecido']\"\n",
    "\n",
    "# Contagem inicial de elementos\n",
    "contagem_inicial = contar_elementos(driver, xpath_cards)\n",
    "scrolls_sem_novos_elementos = 0\n",
    "\n",
    "# Loop para descer a página e coletar dados\n",
    "while scrolls_sem_novos_elementos < 3:  # se nenhum novo cartão aparecer após 3 scrolls, assumimos que todos foram carregados\n",
    "    # Scroll para o fim da página\n",
    "    driver.execute_script('window.scrollTo(0, document.body.scrollHeight);')\n",
    "\n",
    "    # Espera para carregar o conteúdo após o scroll\n",
    "    time.sleep(5)  # Ajuste o tempo conforme necessário\n",
    "\n",
    "    # Contagem após scroll\n",
    "    contagem_apos_scroll = contar_elementos(driver, xpath_cards)\n",
    "\n",
    "    # Verificação se novos elementos foram carregados\n",
    "    if contagem_apos_scroll > contagem_inicial:\n",
    "        contagem_inicial = contagem_apos_scroll\n",
    "        scrolls_sem_novos_elementos = 0  # Reset do contador porque novos elementos apareceram\n",
    "    else:\n",
    "        scrolls_sem_novos_elementos += 1  # Incrementa o contador se não houver novos elementos"
   ]
  },
  {
   "cell_type": "code",
   "execution_count": 9,
   "metadata": {},
   "outputs": [],
   "source": [
    "cards = driver.find_elements(By.XPATH, xpath_cards)\n",
    "for card in cards:\n",
    "    nome = card.find_element(By.XPATH, \".//h3[@class='card-desaparecido-nome']\").text\n",
    "    nomes.append(nome)\n",
    "    dados = card.find_elements(By.XPATH, \".//p\")\n",
    "    nascimento = dados[0].text.split(\":\")[1].strip()\n",
    "    nascimentos.append(nascimento)\n",
    "    desaparecimento = dados[1].find_element(By.TAG_NAME, \"strong\").text\n",
    "    desaparecimentos.append(desaparecimento)\n",
    "    local_desap = dados[2].find_element(By.TAG_NAME, \"strong\").text\n",
    "    locais_desaparecimento.append(local_desap)"
   ]
  },
  {
   "cell_type": "code",
   "execution_count": null,
   "metadata": {},
   "outputs": [],
   "source": [
    "df_list = pd.DataFrame({'Nomes Desaparecidos': nomes, 'Data Nascimento': nascimentos, 'Data Desaparecimento': desaparecimentos, 'Local Desaparecimento': locais_desaparecimento})\n",
    "df_list.to_csv('Desaparecidos RS.csv', index=False)"
   ]
  }
 ],
 "metadata": {
  "kernelspec": {
   "display_name": "Python 3",
   "language": "python",
   "name": "python3"
  },
  "language_info": {
   "codemirror_mode": {
    "name": "ipython",
    "version": 3
   },
   "file_extension": ".py",
   "mimetype": "text/x-python",
   "name": "python",
   "nbconvert_exporter": "python",
   "pygments_lexer": "ipython3",
   "version": "3.11.4"
  }
 },
 "nbformat": 4,
 "nbformat_minor": 2
}
