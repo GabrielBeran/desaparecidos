{
 "cells": [
  {
   "cell_type": "code",
   "execution_count": 89,
   "metadata": {},
   "outputs": [],
   "source": [
    "import knime.scripting.io as knio\n",
    "from selenium import webdriver\n",
    "from selenium.webdriver.chrome.service import Service\n",
    "from selenium.webdriver.support.ui import Select\n",
    "import pandas as pd\n",
    "import time\n",
    "from webdriver_manager.chrome import ChromeDriverManager\n",
    "from selenium.webdriver.common.by import By\n",
    "from selenium.webdriver.support.ui import WebDriverWait\n",
    "from selenium.webdriver.support import expected_conditions as EC"
   ]
  },
  {
   "cell_type": "code",
   "execution_count": 90,
   "metadata": {},
   "outputs": [],
   "source": [
    "service = Service(ChromeDriverManager().install())\n",
    "\n",
    "# Abrir aba Web\n",
    "driver = webdriver.Chrome(service=service)\n",
    "# Localizar website e entrar\n",
    "website = 'https://desaparecidosdobrasil.org/pesquisa_cadastrodesaparecidos.php'\n",
    "driver.get(website)\n",
    "# Maximizar aba Web\n",
    "driver.maximize_window()"
   ]
  },
  {
   "cell_type": "code",
   "execution_count": 91,
   "metadata": {},
   "outputs": [],
   "source": [
    "slot_element = driver.find_element(By.XPATH, '//select[@name=\"example_length\"]')\n",
    "slot_element.click()\n",
    "option = driver.find_element(By.XPATH, '//*[@id=\"example_length\"]/label/select/option[4]')\n",
    "option.click()"
   ]
  },
  {
   "cell_type": "code",
   "execution_count": 92,
   "metadata": {},
   "outputs": [],
   "source": [
    "nomes = []\n",
    "nome_mãe = []\n",
    "data_desaparecimento = []\n",
    "local_desaparecimento = []\n",
    "links = []\n",
    "nomes_contato = []\n",
    "data_nascimento = []\n",
    "BO =[]\n",
    "descrição = []\n",
    "teste = ['https://desaparecidosdobrasil.org/pesquisa_exibecadastrodesaparecidos.php?edit_id=59', 'https://desaparecidosdobrasil.org/pesquisa_exibecadastrodesaparecidos.php?edit_id=64']"
   ]
  },
  {
   "cell_type": "code",
   "execution_count": 93,
   "metadata": {},
   "outputs": [],
   "source": [
    "font_elements = driver.find_elements(By.XPATH, '//font')\n",
    "\n",
    "for element in font_elements:\n",
    "    nomes.append(element.text)\n",
    "\n",
    "\n",
    "tr_elements = driver.find_elements(By.XPATH, '//tr')\n",
    "\n",
    "for tr in tr_elements:\n",
    "    th_elements = tr.find_elements(By.TAG_NAME, 'th')\n",
    "    \n",
    "    if len(th_elements) > 1:\n",
    "        nome = th_elements[4].text if len(th_elements) > 1 and th_elements[1].text else 'N/A'\n",
    "        nome_mãe.append(nome)\n",
    "        \n",
    "        data = th_elements[5].text if len(th_elements) > 2 and th_elements[2].text else 'N/A'\n",
    "        data_desaparecimento.append(data)\n",
    "        \n",
    "        cidade = th_elements[6].text if len(th_elements) > 3 and th_elements[3].text else 'N/A'\n",
    "        local_desaparecimento.append(cidade)"
   ]
  },
  {
   "cell_type": "code",
   "execution_count": 94,
   "metadata": {},
   "outputs": [],
   "source": [
    "# Encontra todos os elementos tr com as classes \"odd\" e \"even\"\n",
    "tr_elements = driver.find_elements(By.XPATH, '//tr[contains(@class, \"odd\") or contains(@class, \"even\")]')\n",
    "\n",
    "# Itera sobre cada elemento tr\n",
    "for tr in tr_elements:\n",
    "    # Dentro de cada tr, encontra a tag <a> e extrai o atributo href\n",
    "    a_elements = tr.find_elements(By.TAG_NAME, 'a')\n",
    "    for a in a_elements:\n",
    "        href = a.get_attribute('href')\n",
    "        if href:  # Garante que o href não seja None\n",
    "            links.append(href)"
   ]
  },
  {
   "cell_type": "code",
   "execution_count": 95,
   "metadata": {},
   "outputs": [],
   "source": [
    "for website in links:\n",
    "    driver.get(website)\n",
    "\n",
    "    try:\n",
    "        nome_contato = driver.find_element(By.ID, 'txtnomecontato').get_attribute('value')\n",
    "        nomes_contato.append(nome_contato if nome_contato else \"N/A\")\n",
    "    except NoSuchElementException:\n",
    "        nomes_contato.append(\"N/A\")\n",
    "\n",
    "    try:\n",
    "        valor_data_nascimento = driver.find_element(By.ID, 'txtdatanasc').get_attribute('value')\n",
    "        data_nascimento.append(valor_data_nascimento if valor_data_nascimento else \"N/A\")\n",
    "    except NoSuchElementException:\n",
    "        data_nascimento.append(\"N/A\")\n",
    "\n",
    "    try:\n",
    "        numero_BO = driver.find_element(By.ID, 'txtboletimocorrencia').get_attribute('value')\n",
    "        BO.append(numero_BO if numero_BO else \"N/A\")\n",
    "    except NoSuchElementException:\n",
    "        BO.append(\"N/A\")\n",
    "\n",
    "    try:\n",
    "        texto_textarea = driver.find_element(By.ID, 'txtinformacoes').get_attribute('value')\n",
    "        descrição.append(texto_textarea if texto_textarea else \"N/A\")\n",
    "    except NoSuchElementException:\n",
    "        descrição.append(\"N/A\")\n"
   ]
  },
  {
   "cell_type": "code",
   "execution_count": 96,
   "metadata": {},
   "outputs": [
    {
     "data": {
      "text/plain": [
       "'Local Desaparecimento'"
      ]
     },
     "execution_count": 96,
     "metadata": {},
     "output_type": "execute_result"
    }
   ],
   "source": [
    "nome_mãe.pop(0)\n",
    "data_desaparecimento.pop(0)\n",
    "local_desaparecimento.pop(0)"
   ]
  },
  {
   "cell_type": "code",
   "execution_count": 101,
   "metadata": {},
   "outputs": [],
   "source": [
    "df_list = pd.DataFrame({'Nome': nomes, 'Nome_Responsável': nomes_contato, 'Nome_Mãe': nome_mãe, 'Local_Desaparecimento': local_desaparecimento, 'Data_Desaparecimento': data_desaparecimento, 'Data_Nascimento': data_nascimento, 'Número_Boletim_de_Ocorrencia': BO, 'Descrição': descrição})\n",
    "df_list.to_csv('Desaparecidos_Brasil.csv', index=False)"
   ]
  },
  {
   "cell_type": "code",
   "execution_count": null,
   "metadata": {},
   "outputs": [],
   "source": [
    "df_list = pd.DataFrame({'Nome': nomes, 'Nome_Responsável': nomes_contato, 'Nome_Mãe': nome_mãe, 'Local_Desaparecimento': local_desaparecimento, 'Data_Desaparecimento': data_desaparecimento, 'Data_Nascimento': data_nascimento, 'Número_Boletim_de_Ocorrencia': BO, 'Descrição': descrição})\n",
    "knio.output_tables[0] = knio.Table.from_pandas(df_list)"
   ]
  }
 ],
 "metadata": {
  "kernelspec": {
   "display_name": "Python 3",
   "language": "python",
   "name": "python3"
  },
  "language_info": {
   "codemirror_mode": {
    "name": "ipython",
    "version": 3
   },
   "file_extension": ".py",
   "mimetype": "text/x-python",
   "name": "python",
   "nbconvert_exporter": "python",
   "pygments_lexer": "ipython3",
   "version": "3.11.4"
  }
 },
 "nbformat": 4,
 "nbformat_minor": 2
}
