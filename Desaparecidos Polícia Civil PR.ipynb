{
 "cells": [
  {
   "cell_type": "code",
   "execution_count": 1,
   "metadata": {},
   "outputs": [],
   "source": [
    "from selenium import webdriver\n",
    "from selenium.webdriver.chrome.service import Service\n",
    "from selenium.webdriver.support.ui import Select\n",
    "import pandas as pd\n",
    "import time\n",
    "from webdriver_manager.chrome import ChromeDriverManager\n",
    "from selenium.webdriver.common.by import By\n",
    "from selenium.webdriver.support.ui import WebDriverWait\n",
    "from selenium.webdriver.support import expected_conditions as EC\n",
    "from selenium.webdriver.common.action_chains import ActionChains\n",
    "from selenium.webdriver.common.by import By\n",
    "from selenium.common.exceptions import TimeoutException, NoSuchElementException\n",
    "from selenium.common.exceptions import StaleElementReferenceException\n",
    "from selenium.webdriver.common.keys import Keys\n",
    "from collections import namedtuple\n",
    "from bs4 import BeautifulSoup"
   ]
  },
  {
   "cell_type": "code",
   "execution_count": 2,
   "metadata": {},
   "outputs": [],
   "source": [
    "service = Service(ChromeDriverManager().install())\n",
    "driver = webdriver.Chrome(service=service)\n",
    "website = 'https://www.desaparecidos.pr.gov.br/desaparecidos/desaparecidos.do?action=iniciarProcesso&m=true'\n",
    "driver.get(website)\n",
    "\n",
    "driver.maximize_window()"
   ]
  },
  {
   "cell_type": "code",
   "execution_count": 3,
   "metadata": {},
   "outputs": [],
   "source": [
    "html = driver.page_source\n",
    "soup = BeautifulSoup(html, 'html.parser')"
   ]
  },
  {
   "cell_type": "code",
   "execution_count": 4,
   "metadata": {},
   "outputs": [
    {
     "name": "stdout",
     "output_type": "stream",
     "text": [
      "Última página alcançada ou link não encontrado.\n"
     ]
    }
   ],
   "source": [
    "nomes = []\n",
    "local_desaparecimento = []\n",
    "idade_atual = []\n",
    "\n",
    "def scrape_website(url):\n",
    "    driver.get(url)  # Carrega a URL no navegador controlado pelo Selenium\n",
    "\n",
    "    current_page = 1\n",
    "    try:\n",
    "        while True:\n",
    "            time.sleep(5)  # Aguarde a página carregar completamente após cada clique\n",
    "            soup = BeautifulSoup(driver.page_source, 'html.parser')\n",
    "            \n",
    "            divs = soup.find_all('div', class_='col-md-6 mb-3')\n",
    "            for div in divs:\n",
    "                col_md_9 = div.find('div', class_='col-md-9')\n",
    "                if col_md_9:\n",
    "                    strong_tags = col_md_9.find_all('strong')\n",
    "                    if len(strong_tags) >= 6:\n",
    "                        nomes.append(strong_tags[0].get_text(strip=True))\n",
    "                        local_desaparecimento.append(strong_tags[2].next_sibling.strip())\n",
    "                        idade_atual.append(strong_tags[4].next_sibling.strip())\n",
    "            \n",
    "            # Tentar navegar para a próxima página\n",
    "            current_page += 1\n",
    "            try:\n",
    "                next_page_link = driver.find_element(By.XPATH, f\"//a[@href='javascript:pesquisar({current_page});']\")\n",
    "                next_page_link.click()\n",
    "            except:\n",
    "                print(\"Última página alcançada ou link não encontrado.\")\n",
    "                break\n",
    "    except Exception as e:\n",
    "        print(\"Erro durante a navegação:\", e)\n",
    "\n",
    "try:\n",
    "    # URLs para percorrer\n",
    "    urls = [\n",
    "        'https://www.desaparecidos.pr.gov.br/desaparecidos/desaparecidos.do?action=iniciarProcesso&m=true'\n",
    "    ]\n",
    "\n",
    "    for url in urls:\n",
    "        scrape_website(url)\n",
    "\n",
    "finally:\n",
    "    driver.quit()  # Fechar o navegador ao finalizar"
   ]
  },
  {
   "cell_type": "code",
   "execution_count": 8,
   "metadata": {},
   "outputs": [],
   "source": [
    "data = {\n",
    "    'Nomes': nomes,\n",
    "    'Idades': idade_atual,\n",
    "    'Local de Desaparecimento': local_desaparecimento\n",
    "}\n",
    "\n",
    "df = pd.DataFrame(data)\n",
    "df.to_csv('Desaparecidos Polícia Civil PR - crianças.csv', index=False)"
   ]
  }
 ],
 "metadata": {
  "kernelspec": {
   "display_name": "Python 3",
   "language": "python",
   "name": "python3"
  },
  "language_info": {
   "codemirror_mode": {
    "name": "ipython",
    "version": 3
   },
   "file_extension": ".py",
   "mimetype": "text/x-python",
   "name": "python",
   "nbconvert_exporter": "python",
   "pygments_lexer": "ipython3",
   "version": "3.11.4"
  }
 },
 "nbformat": 4,
 "nbformat_minor": 2
}
