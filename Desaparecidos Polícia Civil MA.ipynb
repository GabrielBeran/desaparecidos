{
 "cells": [
  {
   "cell_type": "code",
   "execution_count": 6,
   "metadata": {},
   "outputs": [],
   "source": [
    "import requests\n",
    "from bs4 import BeautifulSoup\n",
    "import pandas as pd"
   ]
  },
  {
   "cell_type": "code",
   "execution_count": 4,
   "metadata": {},
   "outputs": [
    {
     "name": "stdout",
     "output_type": "stream",
     "text": [
      "['BRUNA DIAS DE CARVALHO', 'EMANUELLY KARLA CAMPOS SERRA', 'ISAÍAS LIMA CAMPANHA', 'MANOEL ASSUNÇÃO SILVA CUTRIM', 'SUELI MARIA FORTES', 'MARIANA CRISTINA DA SILVA DOS SANTOS', 'MARCUS VINICIUS ALVES GOMES', 'AUSTEM CAMPOS COSTA', 'LUCAS DA COSTA ASSUNÇÃO', 'TIAGO VINÍCIUS DO NASCIMENTO ARAÚJO', 'DOMINGOS MUNIZ BRITO', 'NILDO FORTES', 'FRANCISCO DA SILVA', 'MARIA LUSIANE ALVES', 'CLEITON DOS SANTOS MESQUITA', 'RIVALDO BATISTA', 'CARLOS ALBERTO FRAZÃO SILVA', 'JONAS CONCEIÇÃO DA SILVA E JOSIEL CONCEIÇÃO DA SILVAS', 'RAILTON SEABRA MACHADO', 'CARLOS AUGUSTO PEREIRA DA SILVA JUNIOR', 'CARLOS CESAR AZEVEDO -DESAPARECIDO', 'KAIK DOS SANTOS ROCHA -DESAPARECIDO', 'VALTER MOREIRA VELOSO', 'FELICIO ARAUJO PEREIRA', 'MARÇAL BEZERRA DA CRUZ', 'JOSÉ CARLOS SILVA SOUZA', 'ANTONIO DA PAZ SANTOS PINTO', 'PEDRO RAIMUNDO NUNES', 'ELISSON VINICIUS SOARES ROCHA', 'LUIS GUILHERME ATAÍDE ROCHA', 'DANIEL ELIAS COUTINHO', 'LAURINO LOPES SILVA', 'BRUNO SERGIO SILVA LOIOLA', 'GUSTAVO RIBEIRO E RIBEIRO', 'WANDERSON JOY SILVA MORAES', 'ANTONIO JOSÉ DA CONCEIÇÃO', 'JOSÉ PAULO DA CUNHA RODRIGUES', 'VANDERSON GABRYEL COSTA DUARTE', 'CARLOS WILLYAN BARROS MARTINS', 'JOSE BEZERRA DOS SANTOS', 'ANTÔNIO FERREIRA DOS SANTOS', 'JORGE HENRIQUE PEREIRA', 'ANTÔNIO FRANCISCO GUIMARÃES DE PINHO', 'EDVALDO SOUSA COSTA', 'WALTER MARLINO SANTOS PEREIRA']\n"
     ]
    }
   ],
   "source": [
    "# URL do site\n",
    "url = \"https://www.ssp.ma.gov.br/disque-denuncia/desaparecidos/\"\n",
    "\n",
    "# Envia uma requisição HTTP GET para o site\n",
    "response = requests.get(url)\n",
    "\n",
    "# Checa se a requisição foi bem-sucedida\n",
    "if response.status_code == 200:\n",
    "    # Cria uma instância do BeautifulSoup para parsear o conteúdo recebido\n",
    "    soup = BeautifulSoup(response.text, 'html.parser')\n",
    "\n",
    "    # Lista para armazenar os nomes\n",
    "    nomes = []\n",
    "\n",
    "    # Procura todas as <div> com classes que contêm \"gg_img\"\n",
    "    divs = soup.find_all('div', class_='gg_img')\n",
    "    for div in divs:\n",
    "        # Extrai o nome a partir do 'data-gg-title'\n",
    "        nome = div.get('data-gg-title')\n",
    "        if nome:\n",
    "            # Remove o sufixo \" - DESAPARECIDA\" se estiver presente\n",
    "            nome = nome.replace(\" - DESAPARECIDA\", \"\")\n",
    "            # Remove o sufixo \" - DESAPARECIDO\" se estiver presente\n",
    "            nome_limpo = nome.replace(\" - DESAPARECIDO\", \"\")\n",
    "            nomes.append(nome_limpo)\n",
    "\n",
    "    # Imprime a lista de nomes limpa\n",
    "    print(nomes)\n",
    "else:\n",
    "    print(f\"Erro ao acessar a página: status {response.status_code}\")"
   ]
  },
  {
   "cell_type": "code",
   "execution_count": 7,
   "metadata": {},
   "outputs": [],
   "source": [
    "data = {\n",
    "    'Nomes': nomes,\n",
    "}\n",
    "\n",
    "df = pd.DataFrame(data)\n",
    "df.to_csv('Desaparecidos Polícia Civil MA.csv', index=False)"
   ]
  }
 ],
 "metadata": {
  "kernelspec": {
   "display_name": "Python 3",
   "language": "python",
   "name": "python3"
  },
  "language_info": {
   "codemirror_mode": {
    "name": "ipython",
    "version": 3
   },
   "file_extension": ".py",
   "mimetype": "text/x-python",
   "name": "python",
   "nbconvert_exporter": "python",
   "pygments_lexer": "ipython3",
   "version": "3.11.4"
  }
 },
 "nbformat": 4,
 "nbformat_minor": 2
}
