{
 "cells": [
  {
   "cell_type": "code",
   "execution_count": 1,
   "metadata": {},
   "outputs": [],
   "source": [
    "from selenium import webdriver\n",
    "from selenium.webdriver.chrome.service import Service\n",
    "from selenium.webdriver.support.ui import Select\n",
    "import pandas as pd\n",
    "import time\n",
    "from webdriver_manager.chrome import ChromeDriverManager\n",
    "from selenium.webdriver.common.by import By\n",
    "from selenium.webdriver.support.ui import WebDriverWait\n",
    "from selenium.webdriver.support import expected_conditions as EC\n",
    "from selenium.webdriver.common.action_chains import ActionChains\n",
    "from selenium.webdriver.common.by import By\n",
    "from selenium.common.exceptions import TimeoutException, NoSuchElementException\n",
    "from selenium.common.exceptions import StaleElementReferenceException\n",
    "from collections import namedtuple"
   ]
  },
  {
   "cell_type": "code",
   "execution_count": 2,
   "metadata": {},
   "outputs": [],
   "source": [
    "service = Service(ChromeDriverManager().install())\n",
    "driver = webdriver.Chrome(service=service)\n",
    "website = 'http://www.policiacivil.am.gov.br/?cat=4'\n",
    "driver.get(website)\n",
    "\n",
    "driver.maximize_window()"
   ]
  },
  {
   "cell_type": "code",
   "execution_count": 3,
   "metadata": {},
   "outputs": [],
   "source": [
    "nomes = []"
   ]
  },
  {
   "cell_type": "code",
   "execution_count": 4,
   "metadata": {},
   "outputs": [
    {
     "name": "stdout",
     "output_type": "stream",
     "text": [
      "Aguardei os elementos ou o botão 'Próximo' e eles não apareceram ou não foram clicáveis a tempo.\n"
     ]
    }
   ],
   "source": [
    "wait = WebDriverWait(driver, 10)\n",
    "\n",
    "try:\n",
    "    while True:  # Loop infinito para navegar pelas páginas\n",
    "        try:\n",
    "            # Aguardar até que os elementos 'entry-title' estejam presentes na página\n",
    "            elementos_h2 = wait.until(EC.presence_of_all_elements_located((By.XPATH, \"//h2[@class='entry-title']\")))\n",
    "            for elemento_h2 in elementos_h2:\n",
    "                nome_elem = elemento_h2.find_element(By.XPATH, \".//a\")\n",
    "                nomes.append(nome_elem.text)  # Adicionar o texto do elemento a lista de nomes\n",
    "\n",
    "            # Tentar encontrar o botão 'next' e clicar\n",
    "            next_button = wait.until(EC.element_to_be_clickable((By.XPATH, \"//div[@class='nav-previous']/a\")))\n",
    "            next_button.click()  # Clicar no botão 'next'\n",
    "\n",
    "            # Aguardar até que o botão 'next' não esteja mais presente antes de continuar\n",
    "            wait.until(EC.staleness_of(next_button))\n",
    "\n",
    "        except TimeoutException:\n",
    "            # Se o botão 'next' não for encontrado ou a página demorar muito para carregar, tente sair do loop\n",
    "            print(\"Aguardei os elementos ou o botão 'Próximo' e eles não apareceram ou não foram clicáveis a tempo.\")\n",
    "            break\n",
    "\n",
    "except Exception as e:\n",
    "    print(f\"Ocorreu um erro durante o scraping: {e}\")"
   ]
  },
  {
   "cell_type": "code",
   "execution_count": 5,
   "metadata": {},
   "outputs": [
    {
     "name": "stdout",
     "output_type": "stream",
     "text": [
      "['Petronilio Paulo de Souza', 'Jonatas da Silva Regis', 'Eliezer Andrade Duarte', 'Emanoel Lima de Castro', 'Maria das Graças Colares Ribeiro', 'Milena Lima de Souza', 'Mário Vitor Viana Nogueira', 'Aluízio Gregório de Oliveira', 'Frank Harley Vieira Saraiva', 'Claudinei da Silva Lima', 'Laís Silva e Silva', 'Darllan Christiano Gonçalves dos Reis', 'Emily Cristina Silva Valent', 'David Rodrigues dos Santos', 'Talita da Silva Dias', 'Ricardo Lima de Oliveira', 'João Wilson Pinto Vasconcelos', 'Augusto Almeida da Silva', 'Mayara Moreira de Oliveira', 'Waldeni Costa de Lima', 'Endryl Jeamesson Peres do Nascimento', 'Diogo Fernandes de Melo', 'Wanderson Lucas da Silva', 'Lídia Cavalcante Gomes', 'Neiva Macedo Gonçalves de Oliveira', 'Zeneide Candido da Silva', 'Samuel Costa D’Ávila', 'Emily Suzyane de Souza Batista', 'Leonardo Botelho de Oliveira', 'Robson da Silva Araújo', 'Juane Bezerra Nogueira', 'Lucas Trindade Magalhães', 'Ângelo Martins Coelho', 'Raimundo Nonato Franco de Souza', 'Wilffredo Jesus Parra', 'Eliny Vitoria Albuquerque das Neves', 'Artur Brito Capistrano', 'Antônio Ricardo Silva Pereira', 'Valdeilson de Oliveira Belém', 'Glória Ester dos Santos de Castro', 'Gabriel Calmont Souto Maior', 'Felipe Silva de Oliveira', 'Sarah Sophia de Souza Lopes Nascimento', 'Saulo Marreiros Maciel', 'Sarah Vitoria da Silva', 'Digna Garay Mata', 'Matheus Serrão Soares', 'Marcos de Amorim Pereira', 'Elisandra Rodrigues Martins', 'Daniel Patrick Carvalho de Mendonça', 'Sandra da Silva Corrêa', 'Nanda Eduarda Freitas dos Santos', 'Joane Rabelo Batista', 'Christhian Edu Mathias Serrão', 'José Neudes Teixeira Freire', 'Marcilane Sales da Costa', 'Roberto França Saraiva', 'Karlyson Victor Pereira', 'Flávio da Luz Silva', 'Holmis Barbosa Siqueira', 'Leticia Gomes Rolim', 'Caio de Almeida de Andrade Freire', 'Willian Carvalho da Silva', 'Ruth Souza Quemel', 'Rogério da Silva Abrantes', 'José Lucas Silva Nascimento', 'Gamaliel da Silva Candido', 'Hiltevam da Silva Damascena', 'Maico Ramos da Silva', 'Any Kamilly Santos da Silva', 'Rubens Pereira de Souza', 'Ismael da Silva Moreira Junior', 'Francisco Medeiro Barroso', 'Italo Samuel Freitas e Freitas', 'Francicleiry Silva de Souza', 'Andressa Brito Gomes', 'Marilene dos Santos Ferreira', 'Emilly Alessandra Pinheiro da Silva', ' Alexsandra Nauanny Pinheiro da Silva', 'Sthephany dos Anjos Malhão', 'Maria Clara da Silva Gomes', 'Maria Eduarda Almeida da Silva', 'Lidiane dos Santos Pereira', 'Thalyson Nascimento Menezes', 'Luiz Omar Victor da Silva Cornelio', 'Manoel Vasques', 'Henrique Souza do Nascimento', 'Daniel Pinheiro da Silva', 'Esau Palheta Miranda dos Santos', 'Giovanna de Souza Rodrigues', 'Juliana Viana da Cruz', 'Gabriele Rabelo Brito', 'Ediones Pires de Sousa', 'Edmilson Ribeiro da Silva', 'Moises Paixão de Lima', 'Jorge Luiz Sousa de Sales', 'Luan Conceição da Costa', 'Ivanildo Leandro Souza da Silva', 'Vitória Oliveira de Souza', 'Nicoly Gabriely da Silva Araújo', 'Adnaldo Guedes Loureiro', 'Alexandre Souza da Silva', 'Ana Jessica dos Santos Costa', 'Aryson Ferreira Santos', 'Daniele Serrão Borges', 'Débora Vale da Silva', 'Jackson Douglas Sousa da Silva', 'Jailson da Silva Queiroz', 'Raimundo Nonato Valente', 'Jesus Jose Cavalcante', 'Guilherme Cavalcante Figueira', 'Gilberson Ferreira de Souza', 'Neliane Batista de Oliveira', 'Thais Lima da Silva', 'Van Carlos Rocha Rabelo', 'Frank Batista de Souza', 'Ana Beatriz de Almeida', 'Alexandre Silva de Oliveira', 'Gabriele Marinho Oliveira', 'Andryw Kalleb Imai Lobato', 'Lindson Matos de Vasconcelos', 'Caio Cesar Jaime Lima', 'Azafi Oliveira Vasquez', 'Altacir Garcia Jaime Lima', 'Diana Pessoa da Silva', 'Luan Henrique Moreira Pinto', 'Mateus e Silva Figueiredo', 'Rubenilson Almeida de Souza', 'Michael Bacelar da Silva', 'Luciano Oliveira dos Santos', 'PC-AM busca informações sobre paradeiro de quatro pessoas que desapareceram em Manaus', 'Roberto Coelho Gonçalves', 'Daniele da Silva Oliveira', 'Altacir Garcia Reis', 'Ana Cristina Cardoso Nogueira', 'Mauro Teixeira de Amorim', 'Evandro Freitas da Silva e Silva, 18', 'Valdirene de Abreu, 52', 'Margleisson Monteiro da Silva, 23', 'Elison Silva de Souza, 35.', 'Rita da Silva da Costa, 32']\n"
     ]
    },
    {
     "data": {
      "text/plain": [
       "141"
      ]
     },
     "execution_count": 5,
     "metadata": {},
     "output_type": "execute_result"
    }
   ],
   "source": [
    "print(nomes)\n",
    "len(nomes)"
   ]
  },
  {
   "cell_type": "code",
   "execution_count": 8,
   "metadata": {},
   "outputs": [],
   "source": [
    "df_pessoas_desaparecidas = pd.DataFrame({'Nomes Desaparecidos': nomes})\n",
    "df_pessoas_desaparecidas.to_csv('Desaparecidos AM.csv', index=False)"
   ]
  }
 ],
 "metadata": {
  "kernelspec": {
   "display_name": "Python 3",
   "language": "python",
   "name": "python3"
  },
  "language_info": {
   "codemirror_mode": {
    "name": "ipython",
    "version": 3
   },
   "file_extension": ".py",
   "mimetype": "text/x-python",
   "name": "python",
   "nbconvert_exporter": "python",
   "pygments_lexer": "ipython3",
   "version": "3.11.4"
  }
 },
 "nbformat": 4,
 "nbformat_minor": 2
}
